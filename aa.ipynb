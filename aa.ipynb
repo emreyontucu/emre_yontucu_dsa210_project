{
 "cells": [
  {
   "cell_type": "code",
   "execution_count": 1,
   "metadata": {},
   "outputs": [
    {
     "ename": "ModuleNotFoundError",
     "evalue": "No module named 'scipy'",
     "output_type": "error",
     "traceback": [
      "\u001b[0;31m---------------------------------------------------------------------------\u001b[0m",
      "\u001b[0;31mModuleNotFoundError\u001b[0m                       Traceback (most recent call last)",
      "Cell \u001b[0;32mIn[1], line 2\u001b[0m\n\u001b[1;32m      1\u001b[0m \u001b[38;5;28;01mimport\u001b[39;00m\u001b[38;5;250m \u001b[39m\u001b[38;5;21;01mpandas\u001b[39;00m\u001b[38;5;250m \u001b[39m\u001b[38;5;28;01mas\u001b[39;00m\u001b[38;5;250m \u001b[39m\u001b[38;5;21;01mpd\u001b[39;00m\n\u001b[0;32m----> 2\u001b[0m \u001b[38;5;28;01mfrom\u001b[39;00m\u001b[38;5;250m \u001b[39m\u001b[38;5;21;01mscipy\u001b[39;00m\u001b[38;5;21;01m.\u001b[39;00m\u001b[38;5;21;01mstats\u001b[39;00m\u001b[38;5;250m \u001b[39m\u001b[38;5;28;01mimport\u001b[39;00m ttest_ind\n\u001b[1;32m      4\u001b[0m \u001b[38;5;66;03m# Load the data\u001b[39;00m\n\u001b[1;32m      5\u001b[0m file_path \u001b[38;5;241m=\u001b[39m \u001b[38;5;124m'\u001b[39m\u001b[38;5;124mEmre_YONTUCU_ticket.csv\u001b[39m\u001b[38;5;124m'\u001b[39m\n",
      "\u001b[0;31mModuleNotFoundError\u001b[0m: No module named 'scipy'"
     ]
    }
   ],
   "source": []
  },
  {
   "cell_type": "markdown",
   "metadata": {},
   "source": [
    "# Spending Frequency and Hypothesis Testing\n",
    "\n",
    "Bu notebook, harcama sıklığını ve hafta içi/hafta sonu harcamalarını analiz etmek için oluşturulmuştur. Hipotez testi ile hafta içi ve hafta sonu harcamaları arasındaki farkı değerlendiriyoruz.\n"
   ]
  },
  {
   "cell_type": "code",
   "execution_count": null,
   "metadata": {},
   "outputs": [],
   "source": [
    "import pandas as pd\n",
    "from scipy.stats import ttest_ind\n"
   ]
  },
  {
   "cell_type": "markdown",
   "metadata": {},
   "source": [
    "## Veri Yükleme ve Hazırlama\n",
    "\n",
    "Bu bölümde:\n",
    "- **Veri dosyası yüklenir**.\n",
    "- **Tarih sütunu (`IslemZamanı`) datetime formatına çevrilir**.\n",
    "- **Bakiyeler ve harcama sütunları (`KartBakiyesi`, `IslemTutarı`) float formatına dönüştürülür**.\n"
   ]
  },
  {
   "cell_type": "code",
   "execution_count": null,
   "metadata": {},
   "outputs": [],
   "source": [
    "file_path = 'Emre_YONTUCU_ticket.csv'\n",
    "data = pd.read_csv(file_path)\n",
    "\n",
    "data['IslemZamanı'] = pd.to_datetime(data['IslemZamanı'], errors='coerce')\n",
    "data['KartBakiyesi'] = data['KartBakiyesi'].str.replace(',', '.').astype(float)\n",
    "data['IslemTutarı'] = data['IslemTutarı'].str.replace(',', '.').astype(float)\n"
   ]
  },
  {
   "cell_type": "markdown",
   "metadata": {},
   "source": [
    "## Günlük Harcama Sıklığı\n",
    "\n",
    "Bu bölümde:\n",
    "- Her bir gün için yapılan işlem sayısını hesaplıyoruz.\n",
    "- Tarih sütununa göre gruplama yapıyoruz.\n"
   ]
  },
  {
   "cell_type": "code",
   "execution_count": null,
   "metadata": {},
   "outputs": [],
   "source": [
    "spending_frequency = data['IslemZamanı'].dt.date.value_counts().sort_index()\n",
    "print(\"Daily Spending Frequency:\\n\")\n",
    "print(spending_frequency)\n"
   ]
  },
  {
   "cell_type": "markdown",
   "metadata": {},
   "source": [
    "## Hafta İçi ve Hafta Sonu Sınıflandırması\n",
    "\n",
    "Bu bölümde:\n",
    "- Tarih sütunundan gün isimleri çıkarılır.\n",
    "- Hafta sonu (Cumartesi ve Pazar) günleri belirlenir.\n",
    "- Hafta içi ve hafta sonu harcamaları ayrılır.\n"
   ]
  },
  {
   "cell_type": "code",
   "execution_count": null,
   "metadata": {},
   "outputs": [],
   "source": [
    "data['day_of_week'] = data['IslemZamanı'].dt.day_name()\n",
    "data['is_weekend'] = data['day_of_week'].isin(['Saturday', 'Sunday'])\n",
    "\n",
    "weekday_spending = data[data['is_weekend'] == False]['IslemTutarı']\n",
    "weekend_spending = data[data['is_weekend'] == True]['IslemTutarı']\n"
   ]
  },
  {
   "cell_type": "markdown",
   "metadata": {},
   "source": []
  }
 ],
 "metadata": {
  "kernelspec": {
   "display_name": "Python 3",
   "language": "python",
   "name": "python3"
  },
  "language_info": {
   "codemirror_mode": {
    "name": "ipython",
    "version": 3
   },
   "file_extension": ".py",
   "mimetype": "text/x-python",
   "name": "python",
   "nbconvert_exporter": "python",
   "pygments_lexer": "ipython3",
   "version": "3.12.3"
  }
 },
 "nbformat": 4,
 "nbformat_minor": 2
}
