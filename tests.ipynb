{
 "cells": [
  {
   "cell_type": "markdown",
   "metadata": {},
   "source": [
    "## Hypothesis Testing on Spending Data\n",
    "\n",
    "This notebook analyzes spending data to perform hypothesis testing. The data is separated into weekday and weekend spending, and a manual t-test is conducted using `numpy` to check for significant differences.\n",
    "\n",
    "The key steps include:\n",
    "- Preparing the data by converting columns to the appropriate formats.\n",
    "- Categorizing spending into weekdays and weekends.\n",
    "- Performing a manual t-test using `numpy`.\n",
    "- Generating a report with the results.\n",
    "\n",
    "The final output includes both console results and a text report.\n",
    "\n"
   ]
  },
  {
   "cell_type": "code",
   "execution_count": 4,
   "metadata": {},
   "outputs": [],
   "source": [
    "# Importing necessary libraries\n",
    "import pandas as pd\n",
    "import numpy as np\n"
   ]
  },
  {
   "cell_type": "markdown",
   "metadata": {},
   "source": [
    "## Data Loading and Preparation\n",
    "\n",
    "In this section, the dataset is loaded and columns are prepared:\n",
    "- The date column is converted to datetime format.\n",
    "- The balance and spending columns are converted to numerical values.\n",
    "- Spending frequency is calculated for each day.\n"
   ]
  },
  {
   "cell_type": "code",
   "execution_count": 12,
   "metadata": {},
   "outputs": [
    {
     "name": "stdout",
     "output_type": "stream",
     "text": [
      "Daily Spending Frequency:\n",
      "\n",
      "IslemZamanı\n",
      "2023-10-31    1\n",
      "2023-11-13    1\n",
      "2023-11-14    1\n",
      "2023-11-15    1\n",
      "2023-11-20    1\n",
      "             ..\n",
      "2024-11-15    1\n",
      "2024-11-18    1\n",
      "2024-11-19    1\n",
      "2024-11-25    1\n",
      "2024-11-26    1\n",
      "Name: count, Length: 89, dtype: int64\n"
     ]
    }
   ],
   "source": [
    "# Load and prepare the data\n",
    "file_path = 'Emre_YONTUCU_ticket.csv'\n",
    "data = pd.read_csv(file_path)\n",
    "\n",
    "# Convert necessary columns to appropriate formats\n",
    "data['IslemZamanı'] = pd.to_datetime(data['IslemZamanı'], errors='coerce')\n",
    "data['KartBakiyesi'] = data['KartBakiyesi'].str.replace(',', '.').astype(float)\n",
    "data['IslemTutarı'] = data['IslemTutarı'].str.replace(',', '.').astype(float)\n",
    "\n",
    "# Calculate daily spending frequency\n",
    "spending_frequency = data['IslemZamanı'].dt.date.value_counts().sort_index()\n",
    "\n",
    "# Display daily spending frequency\n",
    "print(\"Daily Spending Frequency:\\n\")\n",
    "print(spending_frequency)\n"
   ]
  },
  {
   "cell_type": "markdown",
   "metadata": {},
   "source": [
    "## Weekday and Weekend Categorization\n",
    "\n",
    "The dataset is further categorized into weekday and weekend spending:\n",
    "- Weekdays: Monday to Friday.\n",
    "- Weekends: Saturday and Sunday.\n",
    "\n",
    "This allows for separate analysis of spending patterns.\n"
   ]
  },
  {
   "cell_type": "code",
   "execution_count": 6,
   "metadata": {},
   "outputs": [],
   "source": [
    "# Classify data into weekdays and weekends\n",
    "data['day_of_week'] = data['IslemZamanı'].dt.day_name()\n",
    "data['is_weekend'] = data['day_of_week'].isin(['Saturday', 'Sunday'])\n",
    "\n",
    "# Separate weekday and weekend spending\n",
    "weekday_spending = data[data['is_weekend'] == False]['IslemTutarı']\n",
    "weekend_spending = data[data['is_weekend'] == True]['IslemTutarı']\n"
   ]
  },
  {
   "cell_type": "markdown",
   "metadata": {},
   "source": [
    "## Manual T-Test with `numpy`\n",
    "\n",
    "A manual implementation of the t-test is performed:\n",
    "- The mean and variance of both groups (weekday and weekend spending) are calculated.\n",
    "- The pooled variance is computed.\n",
    "- The t-statistic and p-value are derived to test the null hypothesis:\n",
    "  - Null Hypothesis (H₀): No significant difference exists between weekday and weekend spending.\n",
    "  - Alternative Hypothesis (H₁): A significant difference exists.\n",
    "\n",
    "The significance level is set at 0.05 (5%).\n"
   ]
  },
  {
   "cell_type": "code",
   "execution_count": 7,
   "metadata": {},
   "outputs": [
    {
     "name": "stdout",
     "output_type": "stream",
     "text": [
      "Hypothesis Testing Results:\n",
      "\n",
      "T-statistic: -0.28838438381078685\n",
      "P-value: 0.7730525201247296\n",
      "Conclusion: There is no significant difference between weekday and weekend spending.\n"
     ]
    }
   ],
   "source": [
    "# Define a manual t-test function\n",
    "def manual_ttest(data1, data2):\n",
    "    \"\"\"Perform a manual t-test for two independent samples.\"\"\"\n",
    "    mean1, mean2 = np.mean(data1), np.mean(data2)\n",
    "    var1, var2 = np.var(data1, ddof=1), np.var(data2, ddof=1)\n",
    "    n1, n2 = len(data1), len(data2)\n",
    "    \n",
    "    # Calculate t-statistic\n",
    "    pooled_se = np.sqrt((var1 / n1) + (var2 / n2))\n",
    "    t_stat = (mean1 - mean2) / pooled_se\n",
    "    \n",
    "    # Degrees of freedom\n",
    "    df = ((var1 / n1 + var2 / n2) ** 2) / (((var1 / n1) ** 2) / (n1 - 1) + ((var2 / n2) ** 2) / (n2 - 1))\n",
    "    \n",
    "    # Calculate p-value (using Z-test approximation for normal distribution)\n",
    "    from math import erf, sqrt\n",
    "    p_value = 2 * (1 - 0.5 * (1 + erf(abs(t_stat) / sqrt(2))))\n",
    "    \n",
    "    return t_stat, p_value\n",
    "\n",
    "# Perform the manual t-test\n",
    "t_stat, p_value = manual_ttest(weekday_spending.dropna(), weekend_spending.dropna())\n",
    "\n",
    "# Display test results\n",
    "print(\"Hypothesis Testing Results:\\n\")\n",
    "print(f\"T-statistic: {t_stat}\")\n",
    "print(f\"P-value: {p_value}\")\n",
    "if p_value < 0.05:\n",
    "    print(\"Conclusion: There is a significant difference between weekday and weekend spending.\")\n",
    "else:\n",
    "    print(\"Conclusion: There is no significant difference between weekday and weekend spending.\")\n"
   ]
  },
  {
   "cell_type": "markdown",
   "metadata": {},
   "source": [
    "## Report Generation\n",
    "\n",
    "The results of the analysis, including daily spending frequency and hypothesis testing outcomes, are saved into a text file for further review.\n"
   ]
  },
  {
   "cell_type": "code",
   "execution_count": 8,
   "metadata": {},
   "outputs": [
    {
     "name": "stdout",
     "output_type": "stream",
     "text": [
      "Report saved to Spending_Frequency_Hypothesis_Testing_Report_Numpy_Only.txt\n"
     ]
    }
   ],
   "source": [
    "# Generate a report\n",
    "report_lines = [\n",
    "    \"Spending Frequency and Hypothesis Testing Report\\n\",\n",
    "    \"Date\\t\\tNumber of Transactions\\n\"\n",
    "]\n",
    "report_lines.extend([f\"{date}\\t{count}\\n\" for date, count in spending_frequency.items()])\n",
    "\n",
    "# Add hypothesis test results to the report\n",
    "report_lines.append(\"\\nHypothesis Testing:\\n\")\n",
    "report_lines.append(f\"T-statistic: {t_stat}\\n\")\n",
    "report_lines.append(f\"P-value: {p_value}\\n\")\n",
    "if p_value < 0.05:\n",
    "    report_lines.append(\"Conclusion: There is a significant difference between weekday and weekend spending.\\n\")\n",
    "else:\n",
    "    report_lines.append(\"Conclusion: There is no significant difference between weekday and weekend spending.\\n\")\n",
    "\n",
    "# Save the report to a text file\n",
    "output_path = 'Spending_Frequency_Hypothesis_Testing_Report_Numpy_Only.txt'\n",
    "with open(output_path, 'w') as report_file:\n",
    "    report_file.writelines(report_lines)\n",
    "\n",
    "print(f\"Report saved to {output_path}\")\n"
   ]
  },
  {
   "cell_type": "markdown",
   "metadata": {},
   "source": [
    "## Conclusion\n",
    "\n",
    "This notebook provided an analysis of spending patterns using manual t-test implementation with `numpy`. \n",
    "The results showed whether there is a significant difference in spending behavior between weekdays and weekends.\n",
    "\n",
    "The final report is saved as `Spending_Frequency_Hypothesis_Testing_Report_Numpy_Only.txt`.\n"
   ]
  }
 ],
 "metadata": {
  "kernelspec": {
   "display_name": "Python 3",
   "language": "python",
   "name": "python3"
  },
  "language_info": {
   "codemirror_mode": {
    "name": "ipython",
    "version": 3
   },
   "file_extension": ".py",
   "mimetype": "text/x-python",
   "name": "python",
   "nbconvert_exporter": "python",
   "pygments_lexer": "ipython3",
   "version": "3.12.3"
  }
 },
 "nbformat": 4,
 "nbformat_minor": 2
}
