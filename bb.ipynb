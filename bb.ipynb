{
 "cells": [
  {
   "cell_type": "code",
   "execution_count": 1,
   "metadata": {},
   "outputs": [
    {
     "ename": "ModuleNotFoundError",
     "evalue": "No module named 'scipy'",
     "output_type": "error",
     "traceback": [
      "\u001b[0;31m---------------------------------------------------------------------------\u001b[0m",
      "\u001b[0;31mModuleNotFoundError\u001b[0m                       Traceback (most recent call last)",
      "Cell \u001b[0;32mIn[1], line 3\u001b[0m\n\u001b[1;32m      1\u001b[0m \u001b[38;5;66;03m# Kütüphanelerin yüklenmesi\u001b[39;00m\n\u001b[1;32m      2\u001b[0m \u001b[38;5;28;01mimport\u001b[39;00m\u001b[38;5;250m \u001b[39m\u001b[38;5;21;01mpandas\u001b[39;00m\u001b[38;5;250m \u001b[39m\u001b[38;5;28;01mas\u001b[39;00m\u001b[38;5;250m \u001b[39m\u001b[38;5;21;01mpd\u001b[39;00m\n\u001b[0;32m----> 3\u001b[0m \u001b[38;5;28;01mfrom\u001b[39;00m\u001b[38;5;250m \u001b[39m\u001b[38;5;21;01mscipy\u001b[39;00m\u001b[38;5;21;01m.\u001b[39;00m\u001b[38;5;21;01mstats\u001b[39;00m\u001b[38;5;250m \u001b[39m\u001b[38;5;28;01mimport\u001b[39;00m ttest_ind\n\u001b[1;32m      5\u001b[0m \u001b[38;5;66;03m# Veriyi yükleme ve hazırlama\u001b[39;00m\n\u001b[1;32m      6\u001b[0m file_path \u001b[38;5;241m=\u001b[39m \u001b[38;5;124m'\u001b[39m\u001b[38;5;124mEmre_YONTUCU_ticket.csv\u001b[39m\u001b[38;5;124m'\u001b[39m\n",
      "\u001b[0;31mModuleNotFoundError\u001b[0m: No module named 'scipy'"
     ]
    }
   ],
   "source": [
    "# Kütüphanelerin yüklenmesi\n",
    "import pandas as pd\n",
    "from scipy.stats import ttest_ind\n",
    "\n",
    "# Veriyi yükleme ve hazırlama\n",
    "file_path = 'Emre_YONTUCU_ticket.csv'\n",
    "data = pd.read_csv(file_path)\n",
    "\n",
    "# Gerekli sütunları uygun formatlara dönüştürme\n",
    "data['IslemZamanı'] = pd.to_datetime(data['IslemZamanı'], errors='coerce')\n",
    "data['KartBakiyesi'] = data['KartBakiyesi'].str.replace(',', '.').astype(float)\n",
    "data['IslemTutarı'] = data['IslemTutarı'].str.replace(',', '.').astype(float)\n",
    "\n",
    "# Günlük harcama sıklığı hesaplama\n",
    "spending_frequency = data['IslemZamanı'].dt.date.value_counts().sort_index()\n",
    "\n",
    "# Harcama sıklığını görüntüleme\n",
    "print(\"Daily Spending Frequency:\\n\")\n",
    "print(spending_frequency)\n",
    "\n",
    "# Hafta içi ve hafta sonu sınıflandırması\n",
    "data['day_of_week'] = data['IslemZamanı'].dt.day_name()\n",
    "data['is_weekend'] = data['day_of_week'].isin(['Saturday', 'Sunday'])\n",
    "\n",
    "# Hafta içi ve hafta sonu harcamalarını ayırma\n",
    "weekday_spending = data[data['is_weekend'] == False]['IslemTutarı']\n",
    "weekend_spending = data[data['is_weekend'] == True]['IslemTutarı']\n",
    "\n",
    "# Hipotez testi\n",
    "t_stat, p_value = ttest_ind(weekday_spending.dropna(), weekend_spending.dropna())\n",
    "\n",
    "# Hipotez testi sonuçları\n",
    "print(\"Hypothesis Testing Results:\\n\")\n",
    "print(f\"T-statistic: {t_stat}\")\n",
    "print(f\"P-value: {p_value}\")\n",
    "if p_value < 0.05:\n",
    "    print(\"Conclusion: There is a significant difference between weekday and weekend spending.\")\n",
    "else:\n",
    "    print(\"Conclusion: There is no significant difference between weekday and weekend spending.\")\n",
    "\n",
    "# Rapor satırlarını oluşturma\n",
    "report_lines = [\n",
    "    \"Spending Frequency and Hypothesis Testing Report\\n\",\n",
    "    \"Date\\t\\tNumber of Transactions\\n\"\n",
    "]\n",
    "report_lines.extend([f\"{date}\\t{count}\\n\" for date, count in spending_frequency.items()])\n",
    "\n",
    "# Hipotez testi sonuçlarını ekleme\n",
    "report_lines.append(\"\\nHypothesis Testing:\\n\")\n",
    "report_lines.append(f\"T-statistic: {t_stat}\\n\")\n",
    "report_lines.append(f\"P-value: {p_value}\\n\")\n",
    "if p_value < 0.05:\n",
    "    report_lines.append(\"Conclusion: There is a significant difference between weekday and weekend spending.\\n\")\n",
    "else:\n",
    "    report_lines.append(\"Conclusion: There is no significant difference between weekday and weekend spending.\\n\")\n",
    "\n",
    "# Raporu bir metin dosyasına kaydetme\n",
    "output_path = 'Spending_Frequency_Hypothesis_Testing_Report.txt'\n",
    "with open(output_path, 'w') as report_file:\n",
    "    report_file.writelines(report_lines)\n",
    "\n",
    "print(f\"Report saved to {output_path}\")\n"
   ]
  }
 ],
 "metadata": {
  "kernelspec": {
   "display_name": "Python 3",
   "language": "python",
   "name": "python3"
  },
  "language_info": {
   "codemirror_mode": {
    "name": "ipython",
    "version": 3
   },
   "file_extension": ".py",
   "mimetype": "text/x-python",
   "name": "python",
   "nbconvert_exporter": "python",
   "pygments_lexer": "ipython3",
   "version": "3.12.3"
  }
 },
 "nbformat": 4,
 "nbformat_minor": 2
}
